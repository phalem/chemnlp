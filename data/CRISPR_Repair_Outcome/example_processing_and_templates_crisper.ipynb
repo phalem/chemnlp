{
 "cells": [
  {
   "cell_type": "code",
   "execution_count": null,
   "id": "4a33060c",
   "metadata": {},
   "outputs": [],
   "source": [
    "target_folder = 'CRISPR_Repair_Outcome'"
   ]
  },
  {
   "cell_type": "markdown",
   "id": "7d18c95d-2ec6-45e1-addc-54a890097b8e",
   "metadata": {},
   "source": [
    "# Imports"
   ]
  },
  {
   "cell_type": "code",
   "execution_count": null,
   "id": "cf59e3e9-8061-4022-9eae-e978311b4155",
   "metadata": {
    "tags": []
   },
   "outputs": [],
   "source": [
    "import pandas as pd\n",
    "import yaml\n",
    "from tdc.single_pred import CRISPROutcome\n",
    "from tdc.utils import retrieve_label_name_list"
   ]
  },
  {
   "cell_type": "markdown",
   "id": "a6751ff9-2e3e-4d01-8395-7a5ae0c200d7",
   "metadata": {},
   "source": [
    "# Data processing"
   ]
  },
  {
   "cell_type": "code",
   "execution_count": null,
   "id": "9308007e",
   "metadata": {
    "scrolled": false
   },
   "outputs": [],
   "source": [
    "target_subfolder = 'Leenay'\n",
    "\n",
    "label_list = retrieve_label_name_list(target_subfolder)\n",
    "data = CRISPROutcome(name = target_subfolder, label_name = label_list[0])"
   ]
  },
  {
   "cell_type": "code",
   "execution_count": null,
   "id": "59bc7fa2",
   "metadata": {},
   "outputs": [],
   "source": [
    "target_subfolder = 'Leenay'\n",
    "\n",
    "label_list = retrieve_label_name_list(target_subfolder)\n",
    "data = CRISPROutcome(name = target_subfolder, label_name = label_list[0])\n",
    "\n",
    "target_path = f'{target_folder}'\n",
    "fn_data_original = f\"data/leenay.tab\"\n",
    "fn_data_original"
   ]
  },
  {
   "cell_type": "code",
   "execution_count": null,
   "id": "fcf952a8",
   "metadata": {},
   "outputs": [],
   "source": [
    "import os\n",
    "if not os.path.exists(target_path):\n",
    "    os.makedirs(target_path)\n",
    "    print(f'Make path: {target_path}')"
   ]
  },
  {
   "cell_type": "code",
   "execution_count": null,
   "id": "26d9f62a-07f5-4113-8161-d5dfcf0bfb71",
   "metadata": {
    "tags": []
   },
   "outputs": [],
   "source": [
    "data.get_data().to_csv(fn_data_original, index=False)"
   ]
  },
  {
   "cell_type": "markdown",
   "id": "d9cda29a-a133-4f0e-992b-e77c9070ee93",
   "metadata": {},
   "source": [
    "## Load original data"
   ]
  },
  {
   "cell_type": "code",
   "execution_count": null,
   "id": "77f614e7-b133-40bc-8759-2d930e4c120e",
   "metadata": {
    "scrolled": true,
    "tags": []
   },
   "outputs": [],
   "source": [
    "!head -n 5 {fn_data_original}"
   ]
  },
  {
   "cell_type": "code",
   "execution_count": null,
   "id": "fc81cbcf",
   "metadata": {
    "scrolled": true
   },
   "outputs": [],
   "source": [
    "import pandas as pd \n",
    "\n",
    "df = pd.read_csv(fn_data_original, sep='\\t')\n",
    "df"
   ]
  },
  {
   "cell_type": "code",
   "execution_count": null,
   "id": "e9823cbd",
   "metadata": {},
   "outputs": [],
   "source": [
    "len(df)"
   ]
  },
  {
   "cell_type": "markdown",
   "id": "95158ac1-05d7-4a21-b8e4-7f720306d331",
   "metadata": {},
   "source": [
    "## Add column = field names\n",
    "Clean column names (`fields_clean`) and keep original names (`fields_orig`)"
   ]
  },
  {
   "cell_type": "code",
   "execution_count": null,
   "id": "38ae890c",
   "metadata": {},
   "outputs": [],
   "source": [
    "fields_orig = df.columns.tolist()\n",
    "fields_orig"
   ]
  },
  {
   "cell_type": "code",
   "execution_count": null,
   "id": "08197f62",
   "metadata": {},
   "outputs": [],
   "source": [
    "assert fields_orig == ['X',\n",
    " 'Fraction_Insertions',\n",
    " 'Avg_Insertion_Length',\n",
    " 'Avg_Deletion_Length',\n",
    " 'Indel_Diversity',\n",
    " 'Fraction_Frameshifts',\n",
    " 'ID']"
   ]
  },
  {
   "cell_type": "code",
   "execution_count": null,
   "id": "f854d0cb",
   "metadata": {},
   "outputs": [],
   "source": []
  },
  {
   "cell_type": "code",
   "execution_count": null,
   "id": "4ec01dbd",
   "metadata": {},
   "outputs": [],
   "source": [
    "df = df[[\n",
    " 'ID',\n",
    "  'X',\n",
    " 'Fraction_Insertions',\n",
    " 'Avg_Insertion_Length',\n",
    " 'Avg_Deletion_Length',\n",
    " 'Indel_Diversity',\n",
    " 'Fraction_Frameshifts',\n",
    " ]]\n",
    "df"
   ]
  },
  {
   "cell_type": "code",
   "execution_count": null,
   "id": "a46dd8ff-37b3-4894-8226-3bf98226dd09",
   "metadata": {
    "tags": []
   },
   "outputs": [],
   "source": [
    "fields_clean = [\n",
    "    \"compound_id\",\n",
    "    \"DNA_sequence\",\n",
    "     'Fraction_Insertions',\n",
    "     'Avg_Insertion_Length',\n",
    "     'Avg_Deletion_Length',\n",
    "     'Indel_Diversity',\n",
    "     'Fraction_Frameshifts'\n",
    "    ]"
   ]
  },
  {
   "cell_type": "code",
   "execution_count": null,
   "id": "785d37cb-1fb4-4a91-a923-d5a78a37f36a",
   "metadata": {
    "tags": []
   },
   "outputs": [],
   "source": [
    "df.columns = fields_clean"
   ]
  },
  {
   "cell_type": "code",
   "execution_count": null,
   "id": "8b4cde30",
   "metadata": {},
   "outputs": [],
   "source": [
    "assert fields_orig != fields_clean"
   ]
  },
  {
   "cell_type": "code",
   "execution_count": null,
   "id": "1bf212cb-1653-457b-9f5d-416d4dd14b53",
   "metadata": {
    "tags": []
   },
   "outputs": [],
   "source": [
    "df.head()"
   ]
  },
  {
   "cell_type": "markdown",
   "id": "1bfaeb22-26fb-4964-a71f-cae8335e5372",
   "metadata": {},
   "source": [
    "## Data cleaning"
   ]
  },
  {
   "cell_type": "code",
   "execution_count": null,
   "id": "d544fa60-343e-40e1-bd0c-4750f07a7145",
   "metadata": {
    "tags": []
   },
   "outputs": [],
   "source": [
    "assert not df.duplicated().sum()"
   ]
  },
  {
   "cell_type": "code",
   "execution_count": null,
   "id": "36af0b16",
   "metadata": {},
   "outputs": [],
   "source": [
    "len(df)"
   ]
  },
  {
   "cell_type": "markdown",
   "id": "bc6f52c1-e0f6-48b3-95f4-e36d9a5ecde8",
   "metadata": {},
   "source": [
    "## Save to csv"
   ]
  },
  {
   "cell_type": "code",
   "execution_count": null,
   "id": "d6d5efa5-b4b4-4a25-8626-e10f3d691e83",
   "metadata": {
    "tags": []
   },
   "outputs": [],
   "source": [
    "fn_data_csv = f\"{target_path}/data_clean.csv\""
   ]
  },
  {
   "cell_type": "code",
   "execution_count": null,
   "id": "727f8d7b-cbb6-43c7-9eab-9d4d65be6b3f",
   "metadata": {
    "tags": []
   },
   "outputs": [],
   "source": [
    "df.to_csv(fn_data_csv, index=False)"
   ]
  },
  {
   "cell_type": "code",
   "execution_count": null,
   "id": "63c8d4a4-906e-418d-be39-879365b4dfa0",
   "metadata": {
    "tags": []
   },
   "outputs": [],
   "source": [
    "!ls -lh {fn_data_csv}"
   ]
  },
  {
   "cell_type": "code",
   "execution_count": null,
   "id": "a51b9001-25d7-4e0e-a607-477cfc4a9f1c",
   "metadata": {
    "tags": []
   },
   "outputs": [],
   "source": [
    "!head -n 5 {fn_data_csv}"
   ]
  },
  {
   "cell_type": "markdown",
   "id": "f3d730ce-fce0-49df-9eb8-b917e945fa9a",
   "metadata": {},
   "source": [
    "## Load from csv"
   ]
  },
  {
   "cell_type": "code",
   "execution_count": null,
   "id": "55b0bd63-62a0-469e-9d8a-e9ada3fe01c4",
   "metadata": {
    "scrolled": true,
    "tags": []
   },
   "outputs": [],
   "source": [
    "df.head()"
   ]
  },
  {
   "cell_type": "code",
   "execution_count": null,
   "id": "077b0c5f-8772-4879-9317-3fa28799689b",
   "metadata": {
    "tags": []
   },
   "outputs": [],
   "source": [
    "fn_data_csv = f\"{target_path}/data_clean.csv\""
   ]
  },
  {
   "cell_type": "code",
   "execution_count": null,
   "id": "6eaef0e6-2115-4793-ac43-a196b25d47a0",
   "metadata": {
    "tags": []
   },
   "outputs": [],
   "source": [
    "df = pd.read_csv(fn_data_csv)"
   ]
  },
  {
   "cell_type": "code",
   "execution_count": null,
   "id": "d6e98a07",
   "metadata": {},
   "outputs": [],
   "source": [
    "df[fields_clean[0]] = (\n",
    "        df[fields_clean[0]].str.strip()\n",
    "    )  "
   ]
  },
  {
   "cell_type": "code",
   "execution_count": null,
   "id": "43619e7c-9c82-4ff0-ae25-403861304635",
   "metadata": {
    "tags": []
   },
   "outputs": [],
   "source": [
    "df.head()"
   ]
  },
  {
   "cell_type": "markdown",
   "id": "2f06e57c-02c5-493b-af65-c8bb9ac59421",
   "metadata": {},
   "source": [
    "# meta YAML"
   ]
  },
  {
   "cell_type": "code",
   "execution_count": null,
   "id": "040aa486",
   "metadata": {},
   "outputs": [],
   "source": [
    "df.columns[2:].tolist()"
   ]
  },
  {
   "cell_type": "code",
   "execution_count": null,
   "id": "076aa692",
   "metadata": {},
   "outputs": [],
   "source": [
    "target_subfolder"
   ]
  },
  {
   "cell_type": "code",
   "execution_count": null,
   "id": "d3890961-444e-4a26-b8fc-ed8c4e959af9",
   "metadata": {
    "tags": []
   },
   "outputs": [],
   "source": [
    "meta = {\n",
    "    \"name\": f\"{target_folder}\",  # unique identifier, we will also use this for directory names\n",
    "    \"description\": \"\"\"Primary T cells are a promising cell type for therapeutic genome editing, as they can be engineered efficiently ex vivo and transferred to patients. This dataset consists of the DNA repair outcomes of CRISPR-CAS9 knockout experiments on primary CD4 plus T cells drawn from 15 donors. For each of the 1,521 unique genomic locations from 553 genes, we provide the 20-nucleotide guide sequence along with the 3-nucletoide PAM sequence.\"\"\",\n",
    "    \"targets\": [\n",
    "        {\n",
    "            \"id\": \"Fraction_Insertions\",  # name of the column in a tabular dataset\n",
    "            \"description\": \"\",  # description of what this column means\n",
    "            \"units\": \"\",  # units of the values in this column (leave empty if unitless)\n",
    "            \"type\": \"continuous\",  # can be \"categorical\", \"ordinal\", \"continuous\"\n",
    "            \"names\": [  # names for the property (to sample from for building the prompts)\n",
    "                \"CRISPR-CAS9 knockout experiments\",\n",
    "                \"Gene editing\",\n",
    "                \"Cell and gene therapy\",\n",
    "                \"Fraction Insertions\"\n",
    "            ],\n",
    "            \"uris\":[\n",
    "                \"\",\n",
    "                \"https://bioportal.bioontology.org/ontologies/MESH?p=classes&conceptid=http%3A%2F%2Fpurl.bioontology.org%2Fontology%2FMESH%2FD000072669\",\n",
    "                \"https://bioportal.bioontology.org/ontologies/NCIT?p=classes&conceptid=http%3A%2F%2Fncicb.nci.nih.gov%2Fxml%2Fowl%2FEVS%2FThesaurus.owl%23C25514\",\n",
    "            ],\n",
    "        },\n",
    "                {\n",
    "            \"id\": \"Avg_Insertion_Length\",  # name of the column in a tabular dataset\n",
    "            \"description\": \"\",  # description of what this column means\n",
    "            \"units\": \"\",  # units of the values in this column (leave empty if unitless)\n",
    "            \"type\": \"continuous\",  # can be \"categorical\", \"ordinal\", \"continuous\"\n",
    "            \"names\": [  # names for the property (to sample from for building the prompts)\n",
    "                \"CRISPR-CAS9 knockout experiments\",\n",
    "                \"Gene editing\",\n",
    "                \"Cell and gene therapy\",\n",
    "                \n",
    "            ],\n",
    "            \"uris\":[\n",
    "                \"\",\n",
    "                \"\",\n",
    "            ],\n",
    "        },\n",
    "                {\n",
    "            \"id\": \"Avg_Deletion_Length\",  # name of the column in a tabular dataset\n",
    "            \"description\": \"\",  # description of what this column means\n",
    "            \"units\": \"\",  # units of the values in this column (leave empty if unitless)\n",
    "            \"type\": \"continuous\",  # can be \"categorical\", \"ordinal\", \"continuous\"\n",
    "            \"names\": [  # names for the property (to sample from for building the prompts)\n",
    "                \"CRISPR-CAS9 knockout experiments\",\n",
    "                \"Gene editing\",\n",
    "                \"Cell and gene therapy\",\n",
    "                \n",
    "            ],\n",
    "            \"uris\":[\n",
    "                \"\",\n",
    "                \"https://bioportal.bioontology.org/ontologies/MESH?p=classes&conceptid=http%3A%2F%2Fpurl.bioontology.org%2Fontology%2FMESH%2FD000072669\",\n",
    "                \"https://bioportal.bioontology.org/ontologies/NCIT?p=classes&conceptid=http%3A%2F%2Fncicb.nci.nih.gov%2Fxml%2Fowl%2FEVS%2FThesaurus.owl%23C25514\",\n",
    "            ],\n",
    "        },\n",
    "                {\n",
    "            \"id\": \"Indel_Diversity\",  # name of the column in a tabular dataset\n",
    "            \"description\": \"\",  # description of what this column means\n",
    "            \"units\": \"\",  # units of the values in this column (leave empty if unitless)\n",
    "            \"type\": \"continuous\",  # can be \"categorical\", \"ordinal\", \"continuous\"\n",
    "            \"names\": [  # names for the property (to sample from for building the prompts)\n",
    "                \"CRISPR-CAS9 knockout experiments\",\n",
    "                \"Gene editing\",\n",
    "                \"Cell and gene therapy\",\n",
    "                \n",
    "            ],\n",
    "            \"uris\":[\n",
    "                \"\",\n",
    "                \"https://bioportal.bioontology.org/ontologies/MESH?p=classes&conceptid=http%3A%2F%2Fpurl.bioontology.org%2Fontology%2FMESH%2FD000072669\",\n",
    "                \"https://bioportal.bioontology.org/ontologies/NCIT?p=classes&conceptid=http%3A%2F%2Fncicb.nci.nih.gov%2Fxml%2Fowl%2FEVS%2FThesaurus.owl%23C25514\",\n",
    "            ],\n",
    "        },\n",
    "         {\n",
    "            \"id\": \"Fraction_Frameshifts\",  # name of the column in a tabular dataset\n",
    "            \"description\": \"\",  # description of what this column means\n",
    "            \"units\": \"\",  # units of the values in this column (leave empty if unitless)\n",
    "            \"type\": \"continuous\",  # can be \"categorical\", \"ordinal\", \"continuous\"\n",
    "            \"names\": [  # names for the property (to sample from for building the prompts)\n",
    "                \"CRISPR-CAS9 knockout experiments\",\n",
    "                \"Gene editing\",\n",
    "                \"Cell and gene therapy\",\n",
    "                \n",
    "            ],\n",
    "            \"uris\":[\n",
    "                \"\",\n",
    "                \"https://bioportal.bioontology.org/ontologies/MESH?p=classes&conceptid=http%3A%2F%2Fpurl.bioontology.org%2Fontology%2FMESH%2FD000072669\",\n",
    "                \"https://bioportal.bioontology.org/ontologies/NCIT?p=classes&conceptid=http%3A%2F%2Fncicb.nci.nih.gov%2Fxml%2Fowl%2FEVS%2FThesaurus.owl%23C25514\",\n",
    "            ],\n",
    "        },\n",
    "         \n",
    "    ],\n",
    "    \n",
    "    \n",
    "    \"identifiers\": [\n",
    "        {\n",
    "            \"id\": \"DNA_sequence\",  # column name\n",
    "            \"type\": \"Other\",  # can be \"SMILES\", \"SELFIES\", \"IUPAC\", \"Other\"\n",
    "            \"description\": \"Genomic DNA sequence\",  # description (optional, except for \"Other\")\n",
    "        }\n",
    "    ],\n",
    "    \"license\": \"CC BY 3.0\",  # license under which the original dataset was published\n",
    "    \"links\": [  # list of relevant links (original dataset, other uses, etc.)\n",
    "        {\n",
    "            \"url\": \"https://doi.org/10.1038/s41587-019-0203-2\",\n",
    "            \"description\": \"corresponding publication\",\n",
    "        },\n",
    "        {\n",
    "            \"url\": \"https://tdcommons.ai/single_pred_tasks/CRISPROutcome/#leenay-et-al\",\n",
    "            \"description\": \"data source\",\n",
    "        }\n",
    "    ],\n",
    "    \"num_points\": len(df),  # number of datapoints in this dataset\n",
    "    \"bibtex\": [\n",
    "        \"\"\"@article{Leenay2019,\n",
    "          doi = {10.1038/s41587-019-0203-2},\n",
    "          url = {https://doi.org/10.1038/s41587-019-0203-2},\n",
    "          year = {2019},\n",
    "          month = jul,\n",
    "          publisher = {Springer Science and Business Media {LLC}},\n",
    "          volume = {37},\n",
    "          number = {9},\n",
    "          pages = {1034--1037},\n",
    "          author = {Ryan T. Leenay and Amirali Aghazadeh and Joseph Hiatt and David Tse and Theodore L. Roth and Ryan Apathy and Eric Shifrut and Judd F. Hultquist and Nevan Krogan and Zhenqin Wu and Giana Cirolia and Hera Canaj and Manuel D. Leonetti and Alexander Marson and Andrew P. May and James Zou},\n",
    "          title = {Large dataset enables prediction of repair after {CRISPR}{\\textendash}Cas9 editing in primary T cells},\n",
    "          journal = {Nature Biotechnology}}\"\"\", \n",
    "    ],\n",
    "}"
   ]
  },
  {
   "cell_type": "code",
   "execution_count": null,
   "id": "ec455cf0-962a-4c0d-bb3e-066e415ffd9b",
   "metadata": {
    "tags": []
   },
   "outputs": [],
   "source": [
    "def str_presenter(dumper, data):\n",
    "    \"\"\"configures yaml for dumping multiline strings\n",
    "    Ref: https://stackoverflow.com/questions/8640959/how-can-i-control-what-scalar-form-pyyaml-uses-for-my-data\n",
    "    \"\"\"\n",
    "    if data.count(\"\\n\") > 0:  # check for multiline string\n",
    "        return dumper.represent_scalar(\"tag:yaml.org,2002:str\", data, style=\"|\")\n",
    "    return dumper.represent_scalar(\"tag:yaml.org,2002:str\", data)\n",
    "\n",
    "\n",
    "yaml.add_representer(str, str_presenter)\n",
    "yaml.representer.SafeRepresenter.add_representer(\n",
    "    str, str_presenter\n",
    ")  # to use with safe_dum"
   ]
  },
  {
   "cell_type": "code",
   "execution_count": null,
   "id": "580bbd79-4845-4515-be94-3e4a9815d048",
   "metadata": {
    "tags": []
   },
   "outputs": [],
   "source": [
    "fn_meta = f\"{target_path}/meta.yaml\"\n",
    "fn_meta"
   ]
  },
  {
   "cell_type": "code",
   "execution_count": null,
   "id": "873fa5dd-9b60-40f5-b537-4d7a206414ea",
   "metadata": {
    "tags": []
   },
   "outputs": [],
   "source": [
    "with open(fn_meta, \"w\") as f:\n",
    "    yaml.dump(meta, f, sort_keys=False)"
   ]
  },
  {
   "cell_type": "code",
   "execution_count": null,
   "id": "d01686c0-6746-4fc4-b019-350270dfc26f",
   "metadata": {
    "tags": []
   },
   "outputs": [],
   "source": [
    "!ls -lh {fn_meta}"
   ]
  },
  {
   "cell_type": "code",
   "execution_count": null,
   "id": "ef6063c5-7a8b-4344-bccf-a073443feebf",
   "metadata": {
    "tags": []
   },
   "outputs": [],
   "source": [
    "!cat {fn_meta}"
   ]
  },
  {
   "cell_type": "markdown",
   "id": "bd3f930a-638b-4bb7-a1d2-80688f2f6891",
   "metadata": {},
   "source": [
    "# create transform.py"
   ]
  },
  {
   "cell_type": "code",
   "execution_count": null,
   "id": "f5c3b81f",
   "metadata": {},
   "outputs": [],
   "source": [
    "fields_clean"
   ]
  },
  {
   "cell_type": "code",
   "execution_count": null,
   "id": "27a0c7d4",
   "metadata": {},
   "outputs": [],
   "source": [
    "print('target_folder: ', target_folder)\n",
    "print('target_subfolder: ',target_subfolder)"
   ]
  },
  {
   "cell_type": "code",
   "execution_count": null,
   "id": "b37ba2ec",
   "metadata": {
    "scrolled": true
   },
   "outputs": [],
   "source": [
    "target_folder = \"CRISPR_Repair_Outcome\"\n",
    "target_subfolder = \"Leenay\"\n",
    "target_path = f'{target_folder}'\n",
    "\n",
    "if not os.path.exists(target_path):\n",
    "    os.makedirs(target_path)\n",
    "    print(f'Make path: {target_path}')\n",
    "\n",
    "path_file = f\"{target_path}/transform.py\""
   ]
  },
  {
   "cell_type": "code",
   "execution_count": null,
   "id": "8368bb20-8e1c-4b7d-b0e2-b39da36b5972",
   "metadata": {
    "tags": []
   },
   "outputs": [],
   "source": [
    "%%writefile $path_file\n",
    "import pandas as pd\n",
    "import yaml\n",
    "from tdc.single_pred import CRISPROutcome\n",
    "from tdc.utils import retrieve_label_name_list\n",
    "\n",
    "def get_and_transform_data():\n",
    "    # get raw data\n",
    "    target_folder = 'CRISPR_Repair_Outcome'\n",
    "    target_subfolder = 'Leenay'\n",
    "\n",
    "    label_list = retrieve_label_name_list(target_subfolder)\n",
    "    data = CRISPROutcome(name = target_subfolder, label_name = label_list[0])\n",
    "\n",
    "    target_path = f'{target_folder}'\n",
    "    fn_data_original = f\"data/leenay.tab\"\n",
    "\n",
    "#     fn_data_original = \"data_original.csv\"\n",
    "#     data.get_data().to_csv(fn_data_original, index=False)\n",
    "    \n",
    "    # create dataframe\n",
    "    df = pd.read_csv(\n",
    "        fn_data_original,\n",
    "        delimiter=\"\\t\",\n",
    "    )  # not necessary but ensure we can load the saved data\n",
    "    \n",
    "    # check if fields are the same\n",
    "    fields_orig = df.columns.tolist()\n",
    "    assert fields_orig == ['X',\n",
    "     'Fraction_Insertions',\n",
    "     'Avg_Insertion_Length',\n",
    "     'Avg_Deletion_Length',\n",
    "     'Indel_Diversity',\n",
    "     'Fraction_Frameshifts',\n",
    "     'ID']\n",
    "    df = df[[\n",
    "     'ID',\n",
    "      'X',\n",
    "     'Fraction_Insertions',\n",
    "     'Avg_Insertion_Length',\n",
    "     'Avg_Deletion_Length',\n",
    "     'Indel_Diversity',\n",
    "     'Fraction_Frameshifts',\n",
    "     ]]\n",
    "    fields_clean = [\n",
    "        \"gene_id\",\n",
    "        \"DNA_sequence\",\n",
    "         'Fraction_Insertions',\n",
    "         'Avg_Insertion_Length',\n",
    "         'Avg_Deletion_Length',\n",
    "         'Indel_Diversity',\n",
    "         'Fraction_Frameshifts'\n",
    "        ]\n",
    "\n",
    "    df.columns = fields_clean\n",
    "\n",
    "#     # data cleaning\n",
    "    df[fields_clean[0]] = (\n",
    "        df[fields_clean[0]].str.strip()\n",
    "    )  \n",
    "    # remove leading and trailing white space characters\n",
    "    df = df.dropna()\n",
    "    assert not df.duplicated().sum()\n",
    "    \n",
    "    # save to csv\n",
    "    fn_data_csv = \"data_clean.csv\"\n",
    "    df.to_csv(fn_data_csv, index=False)\n",
    "    meta = {}\n",
    "    \n",
    "    def str_presenter(dumper, data):\n",
    "        \"\"\"configures yaml for dumping multiline strings\n",
    "        Ref: https://stackoverflow.com/questions/8640959/how-can-i-control-what-scalar-form-pyyaml-uses-for-my-data\n",
    "        \"\"\"\n",
    "        if data.count(\"\\n\") > 0:  # check for multiline string\n",
    "            return dumper.represent_scalar(\"tag:yaml.org,2002:str\", data, style=\"|\")\n",
    "        return dumper.represent_scalar(\"tag:yaml.org,2002:str\", data)\n",
    "\n",
    "    yaml.add_representer(str, str_presenter)\n",
    "    yaml.representer.SafeRepresenter.add_representer(\n",
    "        str, str_presenter\n",
    "    )  # to use with safe_dum\n",
    "    fn_meta = \"meta.yaml\"\n",
    "    with open(fn_meta, \"w\") as f:\n",
    "        yaml.dump(meta, f, sort_keys=False)\n",
    "\n",
    "    print(f\"Finished processing {meta['name']} dataset!\")\n",
    "\n",
    "if __name__ == \"__main__\":\n",
    "    get_and_transform_data()"
   ]
  },
  {
   "cell_type": "code",
   "execution_count": null,
   "id": "d0474f26-70f3-4655-b81a-df4ada90e7a6",
   "metadata": {
    "tags": []
   },
   "outputs": [],
   "source": [
    "!python3 CRISPR_Repair_Outcome/transform.py"
   ]
  },
  {
   "cell_type": "markdown",
   "id": "0b08ed06-ba66-4f76-bde1-368ea77d1739",
   "metadata": {},
   "source": [
    "# End"
   ]
  }
 ],
 "metadata": {
  "kernelspec": {
   "display_name": "Python 3 (ipykernel)",
   "language": "python",
   "name": "python3"
  },
  "language_info": {
   "codemirror_mode": {
    "name": "ipython",
    "version": 3
   },
   "file_extension": ".py",
   "mimetype": "text/x-python",
   "name": "python",
   "nbconvert_exporter": "python",
   "pygments_lexer": "ipython3",
   "version": "3.9.13"
  }
 },
 "nbformat": 4,
 "nbformat_minor": 5
}
